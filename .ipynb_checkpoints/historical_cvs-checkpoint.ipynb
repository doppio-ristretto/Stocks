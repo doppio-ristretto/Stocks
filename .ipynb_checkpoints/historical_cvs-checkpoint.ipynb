{
 "cells": [
  {
   "cell_type": "code",
   "execution_count": 5,
   "metadata": {},
   "outputs": [
    {
     "data": {
      "text/html": [
       "<div>\n",
       "<style scoped>\n",
       "    .dataframe tbody tr th:only-of-type {\n",
       "        vertical-align: middle;\n",
       "    }\n",
       "\n",
       "    .dataframe tbody tr th {\n",
       "        vertical-align: top;\n",
       "    }\n",
       "\n",
       "    .dataframe thead th {\n",
       "        text-align: right;\n",
       "    }\n",
       "</style>\n",
       "<table border=\"1\" class=\"dataframe\">\n",
       "  <thead>\n",
       "    <tr style=\"text-align: right;\">\n",
       "      <th></th>\n",
       "      <th>Date</th>\n",
       "      <th>Open</th>\n",
       "      <th>High</th>\n",
       "      <th>Low</th>\n",
       "      <th>Close</th>\n",
       "      <th>Volume</th>\n",
       "      <th>OpenInt</th>\n",
       "    </tr>\n",
       "  </thead>\n",
       "  <tbody>\n",
       "    <tr>\n",
       "      <th>0</th>\n",
       "      <td>1984-12-17</td>\n",
       "      <td>2.5121</td>\n",
       "      <td>2.5297</td>\n",
       "      <td>2.4762</td>\n",
       "      <td>2.5121</td>\n",
       "      <td>207404</td>\n",
       "      <td>0</td>\n",
       "    </tr>\n",
       "    <tr>\n",
       "      <th>1</th>\n",
       "      <td>1984-12-18</td>\n",
       "      <td>2.5297</td>\n",
       "      <td>2.6102</td>\n",
       "      <td>2.5297</td>\n",
       "      <td>2.6102</td>\n",
       "      <td>219486</td>\n",
       "      <td>0</td>\n",
       "    </tr>\n",
       "    <tr>\n",
       "      <th>2</th>\n",
       "      <td>1984-12-19</td>\n",
       "      <td>2.5923</td>\n",
       "      <td>2.5923</td>\n",
       "      <td>2.5121</td>\n",
       "      <td>2.5475</td>\n",
       "      <td>436957</td>\n",
       "      <td>0</td>\n",
       "    </tr>\n",
       "    <tr>\n",
       "      <th>3</th>\n",
       "      <td>1984-12-20</td>\n",
       "      <td>2.5121</td>\n",
       "      <td>2.5475</td>\n",
       "      <td>2.5030</td>\n",
       "      <td>2.5297</td>\n",
       "      <td>185926</td>\n",
       "      <td>0</td>\n",
       "    </tr>\n",
       "    <tr>\n",
       "      <th>4</th>\n",
       "      <td>1984-12-21</td>\n",
       "      <td>2.5121</td>\n",
       "      <td>2.5121</td>\n",
       "      <td>2.3867</td>\n",
       "      <td>2.4227</td>\n",
       "      <td>161763</td>\n",
       "      <td>0</td>\n",
       "    </tr>\n",
       "  </tbody>\n",
       "</table>\n",
       "</div>"
      ],
      "text/plain": [
       "         Date    Open    High     Low   Close  Volume  OpenInt\n",
       "0  1984-12-17  2.5121  2.5297  2.4762  2.5121  207404        0\n",
       "1  1984-12-18  2.5297  2.6102  2.5297  2.6102  219486        0\n",
       "2  1984-12-19  2.5923  2.5923  2.5121  2.5475  436957        0\n",
       "3  1984-12-20  2.5121  2.5475  2.5030  2.5297  185926        0\n",
       "4  1984-12-21  2.5121  2.5121  2.3867  2.4227  161763        0"
      ]
     },
     "execution_count": 5,
     "metadata": {},
     "output_type": "execute_result"
    }
   ],
   "source": [
    "import pandas as pd\n",
    "import numpy as np\n",
    "\n",
    "file_to_load = \"Resources/historical_cvs_data.csv\"\n",
    "\n",
    "historial_cvs_df = pd.read_csv(file_to_load)\n",
    "historial_cvs_df.head()"
   ]
  }
 ],
 "metadata": {
  "kernelspec": {
   "display_name": "Python 3",
   "language": "python",
   "name": "python3"
  },
  "language_info": {
   "codemirror_mode": {
    "name": "ipython",
    "version": 3
   },
   "file_extension": ".py",
   "mimetype": "text/x-python",
   "name": "python",
   "nbconvert_exporter": "python",
   "pygments_lexer": "ipython3",
   "version": "3.7.6"
  }
 },
 "nbformat": 4,
 "nbformat_minor": 4
}
